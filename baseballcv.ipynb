{
 "cells": [
  {
   "cell_type": "code",
   "execution_count": 1,
   "metadata": {
    "execution": {
     "iopub.execute_input": "2025-07-13T00:58:48.144783Z",
     "iopub.status.busy": "2025-07-13T00:58:48.144535Z",
     "iopub.status.idle": "2025-07-13T00:58:51.584925Z",
     "shell.execute_reply": "2025-07-13T00:58:51.584051Z",
     "shell.execute_reply.started": "2025-07-13T00:58:48.144758Z"
    },
    "trusted": true
   },
   "outputs": [
    {
     "name": "stdout",
     "output_type": "stream",
     "text": [
      "Requirement already satisfied: ultralytics in /usr/local/lib/python3.11/dist-packages (8.3.165)\n",
      "Requirement already satisfied: numpy>=1.23.0 in /usr/local/lib/python3.11/dist-packages (from ultralytics) (1.26.4)\n",
      "Requirement already satisfied: matplotlib>=3.3.0 in /usr/local/lib/python3.11/dist-packages (from ultralytics) (3.7.2)\n",
      "Requirement already satisfied: opencv-python>=4.6.0 in /usr/local/lib/python3.11/dist-packages (from ultralytics) (4.11.0.86)\n",
      "Requirement already satisfied: pillow>=7.1.2 in /usr/local/lib/python3.11/dist-packages (from ultralytics) (11.2.1)\n",
      "Requirement already satisfied: pyyaml>=5.3.1 in /usr/local/lib/python3.11/dist-packages (from ultralytics) (6.0.2)\n",
      "Requirement already satisfied: requests>=2.23.0 in /usr/local/lib/python3.11/dist-packages (from ultralytics) (2.32.4)\n",
      "Requirement already satisfied: scipy>=1.4.1 in /usr/local/lib/python3.11/dist-packages (from ultralytics) (1.15.3)\n",
      "Requirement already satisfied: torch>=1.8.0 in /usr/local/lib/python3.11/dist-packages (from ultralytics) (2.6.0+cu124)\n",
      "Requirement already satisfied: torchvision>=0.9.0 in /usr/local/lib/python3.11/dist-packages (from ultralytics) (0.21.0+cu124)\n",
      "Requirement already satisfied: tqdm>=4.64.0 in /usr/local/lib/python3.11/dist-packages (from ultralytics) (4.67.1)\n",
      "Requirement already satisfied: psutil in /usr/local/lib/python3.11/dist-packages (from ultralytics) (7.0.0)\n",
      "Requirement already satisfied: py-cpuinfo in /usr/local/lib/python3.11/dist-packages (from ultralytics) (9.0.0)\n",
      "Requirement already satisfied: pandas>=1.1.4 in /usr/local/lib/python3.11/dist-packages (from ultralytics) (2.2.3)\n",
      "Requirement already satisfied: ultralytics-thop>=2.0.0 in /usr/local/lib/python3.11/dist-packages (from ultralytics) (2.0.14)\n",
      "Requirement already satisfied: contourpy>=1.0.1 in /usr/local/lib/python3.11/dist-packages (from matplotlib>=3.3.0->ultralytics) (1.3.2)\n",
      "Requirement already satisfied: cycler>=0.10 in /usr/local/lib/python3.11/dist-packages (from matplotlib>=3.3.0->ultralytics) (0.12.1)\n",
      "Requirement already satisfied: fonttools>=4.22.0 in /usr/local/lib/python3.11/dist-packages (from matplotlib>=3.3.0->ultralytics) (4.58.4)\n",
      "Requirement already satisfied: kiwisolver>=1.0.1 in /usr/local/lib/python3.11/dist-packages (from matplotlib>=3.3.0->ultralytics) (1.4.8)\n",
      "Requirement already satisfied: packaging>=20.0 in /usr/local/lib/python3.11/dist-packages (from matplotlib>=3.3.0->ultralytics) (25.0)\n",
      "Requirement already satisfied: pyparsing<3.1,>=2.3.1 in /usr/local/lib/python3.11/dist-packages (from matplotlib>=3.3.0->ultralytics) (3.0.9)\n",
      "Requirement already satisfied: python-dateutil>=2.7 in /usr/local/lib/python3.11/dist-packages (from matplotlib>=3.3.0->ultralytics) (2.9.0.post0)\n",
      "Requirement already satisfied: mkl_fft in /usr/local/lib/python3.11/dist-packages (from numpy>=1.23.0->ultralytics) (1.3.8)\n",
      "Requirement already satisfied: mkl_random in /usr/local/lib/python3.11/dist-packages (from numpy>=1.23.0->ultralytics) (1.2.4)\n",
      "Requirement already satisfied: mkl_umath in /usr/local/lib/python3.11/dist-packages (from numpy>=1.23.0->ultralytics) (0.1.1)\n",
      "Requirement already satisfied: mkl in /usr/local/lib/python3.11/dist-packages (from numpy>=1.23.0->ultralytics) (2025.2.0)\n",
      "Requirement already satisfied: tbb4py in /usr/local/lib/python3.11/dist-packages (from numpy>=1.23.0->ultralytics) (2022.2.0)\n",
      "Requirement already satisfied: mkl-service in /usr/local/lib/python3.11/dist-packages (from numpy>=1.23.0->ultralytics) (2.4.1)\n",
      "Requirement already satisfied: pytz>=2020.1 in /usr/local/lib/python3.11/dist-packages (from pandas>=1.1.4->ultralytics) (2025.2)\n",
      "Requirement already satisfied: tzdata>=2022.7 in /usr/local/lib/python3.11/dist-packages (from pandas>=1.1.4->ultralytics) (2025.2)\n",
      "Requirement already satisfied: charset_normalizer<4,>=2 in /usr/local/lib/python3.11/dist-packages (from requests>=2.23.0->ultralytics) (3.4.2)\n",
      "Requirement already satisfied: idna<4,>=2.5 in /usr/local/lib/python3.11/dist-packages (from requests>=2.23.0->ultralytics) (3.10)\n",
      "Requirement already satisfied: urllib3<3,>=1.21.1 in /usr/local/lib/python3.11/dist-packages (from requests>=2.23.0->ultralytics) (2.5.0)\n",
      "Requirement already satisfied: certifi>=2017.4.17 in /usr/local/lib/python3.11/dist-packages (from requests>=2.23.0->ultralytics) (2025.6.15)\n",
      "Requirement already satisfied: filelock in /usr/local/lib/python3.11/dist-packages (from torch>=1.8.0->ultralytics) (3.18.0)\n",
      "Requirement already satisfied: typing-extensions>=4.10.0 in /usr/local/lib/python3.11/dist-packages (from torch>=1.8.0->ultralytics) (4.14.0)\n",
      "Requirement already satisfied: networkx in /usr/local/lib/python3.11/dist-packages (from torch>=1.8.0->ultralytics) (3.5)\n",
      "Requirement already satisfied: jinja2 in /usr/local/lib/python3.11/dist-packages (from torch>=1.8.0->ultralytics) (3.1.6)\n",
      "Requirement already satisfied: fsspec in /usr/local/lib/python3.11/dist-packages (from torch>=1.8.0->ultralytics) (2025.5.1)\n",
      "Requirement already satisfied: nvidia-cuda-nvrtc-cu12==12.4.127 in /usr/local/lib/python3.11/dist-packages (from torch>=1.8.0->ultralytics) (12.4.127)\n",
      "Requirement already satisfied: nvidia-cuda-runtime-cu12==12.4.127 in /usr/local/lib/python3.11/dist-packages (from torch>=1.8.0->ultralytics) (12.4.127)\n",
      "Requirement already satisfied: nvidia-cuda-cupti-cu12==12.4.127 in /usr/local/lib/python3.11/dist-packages (from torch>=1.8.0->ultralytics) (12.4.127)\n",
      "Requirement already satisfied: nvidia-cudnn-cu12==9.1.0.70 in /usr/local/lib/python3.11/dist-packages (from torch>=1.8.0->ultralytics) (9.1.0.70)\n",
      "Requirement already satisfied: nvidia-cublas-cu12==12.4.5.8 in /usr/local/lib/python3.11/dist-packages (from torch>=1.8.0->ultralytics) (12.4.5.8)\n",
      "Requirement already satisfied: nvidia-cufft-cu12==11.2.1.3 in /usr/local/lib/python3.11/dist-packages (from torch>=1.8.0->ultralytics) (11.2.1.3)\n",
      "Requirement already satisfied: nvidia-curand-cu12==10.3.5.147 in /usr/local/lib/python3.11/dist-packages (from torch>=1.8.0->ultralytics) (10.3.5.147)\n",
      "Requirement already satisfied: nvidia-cusolver-cu12==11.6.1.9 in /usr/local/lib/python3.11/dist-packages (from torch>=1.8.0->ultralytics) (11.6.1.9)\n",
      "Requirement already satisfied: nvidia-cusparse-cu12==12.3.1.170 in /usr/local/lib/python3.11/dist-packages (from torch>=1.8.0->ultralytics) (12.3.1.170)\n",
      "Requirement already satisfied: nvidia-cusparselt-cu12==0.6.2 in /usr/local/lib/python3.11/dist-packages (from torch>=1.8.0->ultralytics) (0.6.2)\n",
      "Requirement already satisfied: nvidia-nccl-cu12==2.21.5 in /usr/local/lib/python3.11/dist-packages (from torch>=1.8.0->ultralytics) (2.21.5)\n",
      "Requirement already satisfied: nvidia-nvtx-cu12==12.4.127 in /usr/local/lib/python3.11/dist-packages (from torch>=1.8.0->ultralytics) (12.4.127)\n",
      "Requirement already satisfied: nvidia-nvjitlink-cu12==12.4.127 in /usr/local/lib/python3.11/dist-packages (from torch>=1.8.0->ultralytics) (12.4.127)\n",
      "Requirement already satisfied: triton==3.2.0 in /usr/local/lib/python3.11/dist-packages (from torch>=1.8.0->ultralytics) (3.2.0)\n",
      "Requirement already satisfied: sympy==1.13.1 in /usr/local/lib/python3.11/dist-packages (from torch>=1.8.0->ultralytics) (1.13.1)\n",
      "Requirement already satisfied: mpmath<1.4,>=1.1.0 in /usr/local/lib/python3.11/dist-packages (from sympy==1.13.1->torch>=1.8.0->ultralytics) (1.3.0)\n",
      "Requirement already satisfied: six>=1.5 in /usr/local/lib/python3.11/dist-packages (from python-dateutil>=2.7->matplotlib>=3.3.0->ultralytics) (1.17.0)\n",
      "Requirement already satisfied: MarkupSafe>=2.0 in /usr/local/lib/python3.11/dist-packages (from jinja2->torch>=1.8.0->ultralytics) (3.0.2)\n",
      "Requirement already satisfied: intel-openmp<2026,>=2024 in /usr/local/lib/python3.11/dist-packages (from mkl->numpy>=1.23.0->ultralytics) (2024.2.0)\n",
      "Requirement already satisfied: tbb==2022.* in /usr/local/lib/python3.11/dist-packages (from mkl->numpy>=1.23.0->ultralytics) (2022.2.0)\n",
      "Requirement already satisfied: tcmlib==1.* in /usr/local/lib/python3.11/dist-packages (from tbb==2022.*->mkl->numpy>=1.23.0->ultralytics) (1.4.0)\n",
      "Requirement already satisfied: intel-cmplr-lib-rt in /usr/local/lib/python3.11/dist-packages (from mkl_umath->numpy>=1.23.0->ultralytics) (2024.2.0)\n",
      "Requirement already satisfied: intel-cmplr-lib-ur==2024.2.0 in /usr/local/lib/python3.11/dist-packages (from intel-openmp<2026,>=2024->mkl->numpy>=1.23.0->ultralytics) (2024.2.0)\n"
     ]
    }
   ],
   "source": [
    "!pip install ultralytics"
   ]
  },
  {
   "cell_type": "code",
   "execution_count": 2,
   "metadata": {
    "_cell_guid": "b1076dfc-b9ad-4769-8c92-a6c4dae69d19",
    "_uuid": "8f2839f25d086af736a60e9eeb907d3b93b6e0e5",
    "execution": {
     "iopub.execute_input": "2025-07-13T00:58:51.586188Z",
     "iopub.status.busy": "2025-07-13T00:58:51.585930Z",
     "iopub.status.idle": "2025-07-13T00:58:53.438524Z",
     "shell.execute_reply": "2025-07-13T00:58:53.437944Z",
     "shell.execute_reply.started": "2025-07-13T00:58:51.586163Z"
    },
    "trusted": true
   },
   "outputs": [],
   "source": [
    "import yaml \n",
    "import optuna\n",
    "from ultralytics import YOLO"
   ]
  },
  {
   "cell_type": "code",
   "execution_count": 12,
   "metadata": {
    "execution": {
     "iopub.execute_input": "2025-07-13T03:20:40.043099Z",
     "iopub.status.busy": "2025-07-13T03:20:40.042716Z",
     "iopub.status.idle": "2025-07-13T03:20:40.048667Z",
     "shell.execute_reply": "2025-07-13T03:20:40.047741Z",
     "shell.execute_reply.started": "2025-07-13T03:20:40.043057Z"
    },
    "trusted": true
   },
   "outputs": [],
   "source": [
    "dataset_path ='/kaggle/input/baseball-rubber-home-glove-2/baseball_rubber_home_glove'\n",
    "\n",
    "data = {'train' :  f'{dataset_path}/train/images',\n",
    "        'val' :  f'{dataset_path}/valid/images',\n",
    "        'test' :  f'{dataset_path}/test/images',\n",
    "        'nc': 4,\n",
    "        'names': ['glove','homeplate','baseball','rubber'],\n",
    "        'class_weights': [9.83, 3.97, 3.84, 4.29]\n",
    "        }"
   ]
  },
  {
   "cell_type": "code",
   "execution_count": 13,
   "metadata": {
    "execution": {
     "iopub.execute_input": "2025-07-13T03:20:42.821347Z",
     "iopub.status.busy": "2025-07-13T03:20:42.821032Z",
     "iopub.status.idle": "2025-07-13T03:20:42.831370Z",
     "shell.execute_reply": "2025-07-13T03:20:42.830634Z",
     "shell.execute_reply.started": "2025-07-13T03:20:42.821326Z"
    },
    "trusted": true
   },
   "outputs": [
    {
     "data": {
      "text/plain": [
       "{'class_weights': [9.83, 3.97, 3.84, 4.29],\n",
       " 'names': ['glove', 'homeplate', 'baseball', 'rubber'],\n",
       " 'nc': 4,\n",
       " 'test': '/kaggle/input/baseball-rubber-home-glove-2/baseball_rubber_home_glove/test/images',\n",
       " 'train': '/kaggle/input/baseball-rubber-home-glove-2/baseball_rubber_home_glove/train/images',\n",
       " 'val': '/kaggle/input/baseball-rubber-home-glove-2/baseball_rubber_home_glove/valid/images'}"
      ]
     },
     "metadata": {},
     "output_type": "display_data"
    }
   ],
   "source": [
    "with open(f'/kaggle/working/baseball_data.yaml', 'w') as f:\n",
    "    yaml.dump(data, f)\n",
    "\n",
    "# read the content in .yaml file\n",
    "with open(f'/kaggle/working/baseball_data.yaml', 'r') as f:\n",
    "    hamster_yaml = yaml.safe_load(f)\n",
    "    display(hamster_yaml)"
   ]
  },
  {
   "cell_type": "code",
   "execution_count": 14,
   "metadata": {
    "execution": {
     "iopub.execute_input": "2025-07-13T03:20:46.361420Z",
     "iopub.status.busy": "2025-07-13T03:20:46.361108Z",
     "iopub.status.idle": "2025-07-13T03:20:54.775129Z",
     "shell.execute_reply": "2025-07-13T03:20:54.774330Z",
     "shell.execute_reply.started": "2025-07-13T03:20:46.361390Z"
    },
    "trusted": true
   },
   "outputs": [
    {
     "name": "stdout",
     "output_type": "stream",
     "text": [
      "Ultralytics 8.3.165 🚀 Python-3.11.13 torch-2.6.0+cu124 CUDA:0 (Tesla P100-PCIE-16GB, 16269MiB)\n",
      "YOLO11x summary (fused): 190 layers, 56,832,799 parameters, 0 gradients, 194.4 GFLOPs\n",
      "\u001b[34m\u001b[1mval: \u001b[0mFast image access ✅ (ping: 0.1±0.2 ms, read: 543.2±100.9 MB/s, size: 327.4 KB)\n"
     ]
    },
    {
     "name": "stderr",
     "output_type": "stream",
     "text": [
      "\u001b[34m\u001b[1mval: \u001b[0mScanning /kaggle/input/baseball-rubber-home-glove-2/baseball_rubber_home_glove/test/labels... 87 images, 0 backgrounds, 0 corrupt: 100%|██████████| 87/87 [00:00<00:00, 1099.28it/s]"
     ]
    },
    {
     "name": "stdout",
     "output_type": "stream",
     "text": [
      "WARNING ⚠️ \u001b[34m\u001b[1mval: \u001b[0mCache directory /kaggle/input/baseball-rubber-home-glove-2/baseball_rubber_home_glove/test is not writeable, cache not saved.\n"
     ]
    },
    {
     "name": "stderr",
     "output_type": "stream",
     "text": [
      "\n",
      "                 Class     Images  Instances      Box(P          R      mAP50  mAP50-95): 100%|██████████| 6/6 [00:03<00:00,  1.63it/s]\n",
      "/usr/local/lib/python3.11/dist-packages/matplotlib/colors.py:721: RuntimeWarning: invalid value encountered in less\n",
      "  xa[xa < 0] = -1\n",
      "/usr/local/lib/python3.11/dist-packages/matplotlib/colors.py:721: RuntimeWarning: invalid value encountered in less\n",
      "  xa[xa < 0] = -1\n"
     ]
    },
    {
     "name": "stdout",
     "output_type": "stream",
     "text": [
      "                   all         87        339      0.817      0.858      0.883      0.398\n",
      "                 glove         87         87      0.951      0.966      0.978      0.524\n",
      "             homeplate         87         87      0.635      0.878      0.819      0.375\n",
      "              baseball         87         87      0.939      0.851      0.929      0.393\n",
      "                rubber         78         78      0.742      0.737      0.803      0.298\n",
      "Speed: 3.2ms preprocess, 28.4ms inference, 0.0ms loss, 0.9ms postprocess per image\n",
      "Results saved to \u001b[1mruns/detect/val6\u001b[0m\n",
      "Baseline Model Performance:\n",
      "mAP@0.5:0.95: 0.39766293210726517\n",
      "mAP@0.5: 0.8825436355208935\n"
     ]
    }
   ],
   "source": [
    "model = YOLO('/kaggle/input/yolo_glove_tracking/pytorch/default/1/glove_tracking_v4_YOLOv11.pt')\n",
    "baseline_metrics = model.val(data='/kaggle/working/baseball_data.yaml', split='test')\n",
    "print(\"Baseline Model Performance:\")\n",
    "print(f\"mAP@0.5:0.95: {baseline_metrics.box.map}\")\n",
    "print(f\"mAP@0.5: {baseline_metrics.box.map50}\")"
   ]
  },
  {
   "cell_type": "code",
   "execution_count": 6,
   "metadata": {
    "execution": {
     "iopub.execute_input": "2025-07-13T00:59:03.255723Z",
     "iopub.status.busy": "2025-07-13T00:59:03.255250Z",
     "iopub.status.idle": "2025-07-13T00:59:03.260187Z",
     "shell.execute_reply": "2025-07-13T00:59:03.259565Z",
     "shell.execute_reply.started": "2025-07-13T00:59:03.255689Z"
    },
    "trusted": true
   },
   "outputs": [],
   "source": [
    "from ultralytics.data.augment import Albumentations\n",
    "from ultralytics.utils import LOGGER, colorstr\n",
    "# import cv2\n",
    "\n",
    "# def __init__(self, p=1.0):\n",
    "#         \"\"\"Initialize the transform object for YOLO bbox formatted params.\"\"\"\n",
    "#         self.p = p\n",
    "#         self.transform = None\n",
    "#         self.contains_spatial = True  # <-- Add this line\n",
    "#         prefix = colorstr(\"albumentations: \")\n",
    "#         try:\n",
    "#             import albumentations as A         \n",
    "\n",
    "#             # Insert required transformation here\n",
    "#             T = [\n",
    "#                 # A.RandomBrightnessContrast(brightness_limit=0.2, contrast_limit=0.2, p=0.5),\n",
    "#                 A.RandomRain(p=0.05),\n",
    "#                 A.RandomSunFlare(p=0.05),\n",
    "#                 A.RandomShadow(p=0.05),\n",
    "#                 A.OneOf([A.MotionBlur(blur_limit=5, p=0.3),\n",
    "#                          A.GaussianBlur(blur_limit=3, p=0.3),\n",
    "#                          A.MedianBlur(blur_limit=3, p=0.2)\n",
    "#                         ], p=0.4),\n",
    "#                 A.CoarseDropout(num_holes_range=[1, 1],hole_height_range=[0.02, 0.08],hole_width_range=[0.02, 0.08],\n",
    "#                                 fill=50),\n",
    "#                 A.CLAHE(p=0.02),\n",
    "#             ]\n",
    "#             self.transform = A.Compose(T, bbox_params=A.BboxParams(format=\"yolo\", label_fields=[\"class_labels\"]))\n",
    "\n",
    "#             LOGGER.info(prefix + \", \".join(f\"{x}\".replace(\"always_apply=False, \", \"\") for x in T if x.p))\n",
    "#         except ImportError:  # package not installed, skip\n",
    "#             pass\n",
    "#         except Exception as e:\n",
    "#             LOGGER.info(f\"{prefix}{e}\")\n",
    "\n",
    "# Albumentations.__init__ = __init__"
   ]
  },
  {
   "cell_type": "code",
   "execution_count": null,
   "metadata": {
    "execution": {
     "iopub.execute_input": "2025-07-13T03:22:03.174132Z",
     "iopub.status.busy": "2025-07-13T03:22:03.173800Z",
     "iopub.status.idle": "2025-07-13T03:22:03.179969Z",
     "shell.execute_reply": "2025-07-13T03:22:03.179128Z",
     "shell.execute_reply.started": "2025-07-13T03:22:03.174107Z"
    },
    "trusted": true
   },
   "outputs": [],
   "source": [
    "def create_glove_focused_config():\n",
    "    \"\"\"Create training configuration optimized for glove detection\"\"\"\n",
    "    return {\n",
    "        'epochs': 20,\n",
    "        \n",
    "        'imgsz': 800,\n",
    "        'batch': 16,\n",
    "        \n",
    "        'hsv_h': 0.02,      # Slightly more hue variation\n",
    "        'hsv_s': 0.8,       # Higher saturation variation\n",
    "        'hsv_v': 0.5,       # More brightness variation\n",
    "        \n",
    "        'degrees': 15.0,     # More rotation for glove orientations\n",
    "        'translate': 0.15,   # Increased translation\n",
    "        'scale': 0.7,        # More scale variation\n",
    "        'shear': 5.0,        # Add shear for glove deformation\n",
    "        'perspective': 0.0005, # Slight perspective changes\n",
    "        \n",
    "        'fliplr': 0.3,       # Increased horizontal flip\n",
    "        'flipud': 0.1,       # Add vertical flip for catching positions\n",
    "        \n",
    "        'mosaic': 0.6,       # Increased mosaic for context\n",
    "        \n",
    "        'patience': 15,      # More patience for convergence\n",
    "        'cos_lr': True,      # Cosine learning rate scheduling\n",
    "        'close_mosaic': 10,  # Close mosaic later\n",
    "\n",
    "        'freeze': 5\n",
    "    }\n"
   ]
  },
  {
   "cell_type": "code",
   "execution_count": 16,
   "metadata": {
    "execution": {
     "iopub.execute_input": "2025-07-13T03:22:13.919183Z",
     "iopub.status.busy": "2025-07-13T03:22:13.918644Z",
     "iopub.status.idle": "2025-07-13T03:22:13.922885Z",
     "shell.execute_reply": "2025-07-13T03:22:13.922157Z",
     "shell.execute_reply.started": "2025-07-13T03:22:13.919158Z"
    },
    "trusted": true
   },
   "outputs": [],
   "source": [
    "config = create_glove_focused_config()"
   ]
  },
  {
   "cell_type": "code",
   "execution_count": 17,
   "metadata": {
    "execution": {
     "iopub.execute_input": "2025-07-13T03:22:34.352441Z",
     "iopub.status.busy": "2025-07-13T03:22:34.351679Z",
     "iopub.status.idle": "2025-07-13T05:42:01.818165Z",
     "shell.execute_reply": "2025-07-13T05:42:01.817248Z",
     "shell.execute_reply.started": "2025-07-13T03:22:34.352415Z"
    },
    "trusted": true
   },
   "outputs": [
    {
     "name": "stdout",
     "output_type": "stream",
     "text": [
      "Pretrained model loaded\n",
      "\u001b[34m\u001b[1mengine/trainer: \u001b[0magnostic_nms=False, amp=True, augment=False, auto_augment=randaugment, batch=16, bgr=0.0, box=7.5, cache=False, cfg=None, classes=None, close_mosaic=10, cls=0.5, conf=None, copy_paste=0.0, copy_paste_mode=flip, cos_lr=True, cutmix=0.0, data=/kaggle/working/baseball_data.yaml, degrees=15.0, deterministic=True, device=None, dfl=1.5, dnn=False, dropout=0.0, dynamic=False, embed=None, epochs=20, erasing=0.4, exist_ok=False, fliplr=0.3, flipud=0.1, format=torchscript, fraction=1.0, freeze=5, half=False, hsv_h=0.02, hsv_s=0.8, hsv_v=0.5, imgsz=800, int8=False, iou=0.7, keras=False, kobj=1.0, line_width=None, lr0=0.01, lrf=0.01, mask_ratio=4, max_det=300, mixup=0.0, mode=train, model=/kaggle/input/yolo_glove_tracking/pytorch/default/1/glove_tracking_v4_YOLOv11.pt, momentum=0.937, mosaic=0.6, multi_scale=False, name=glove_optimized_v2, nbs=64, nms=False, opset=None, optimize=False, optimizer=auto, overlap_mask=True, patience=15, perspective=0.0005, plots=True, pose=12.0, pretrained=True, profile=False, project=baseball_glove_detection_new_params_weighted, rect=False, resume=False, retina_masks=False, save=True, save_conf=False, save_crop=False, save_dir=baseball_glove_detection_new_params_weighted/glove_optimized_v2, save_frames=False, save_json=False, save_period=-1, save_txt=False, scale=0.7, seed=0, shear=5.0, show=False, show_boxes=True, show_conf=True, show_labels=True, simplify=True, single_cls=False, source=None, split=val, stream_buffer=False, task=detect, time=None, tracker=botsort.yaml, translate=0.15, val=True, verbose=True, vid_stride=1, visualize=False, warmup_bias_lr=0.1, warmup_epochs=3.0, warmup_momentum=0.8, weight_decay=0.0005, workers=8, workspace=None\n",
      "Overriding model.yaml nc=5 with nc=4\n",
      "\n",
      "                   from  n    params  module                                       arguments                     \n",
      "  0                  -1  1      2784  ultralytics.nn.modules.conv.Conv             [3, 96, 3, 2]                 \n",
      "  1                  -1  1    166272  ultralytics.nn.modules.conv.Conv             [96, 192, 3, 2]               \n",
      "  2                  -1  2    389760  ultralytics.nn.modules.block.C3k2            [192, 384, 2, True, 0.25]     \n",
      "  3                  -1  1   1327872  ultralytics.nn.modules.conv.Conv             [384, 384, 3, 2]              \n",
      "  4                  -1  2   1553664  ultralytics.nn.modules.block.C3k2            [384, 768, 2, True, 0.25]     \n",
      "  5                  -1  1   5309952  ultralytics.nn.modules.conv.Conv             [768, 768, 3, 2]              \n",
      "  6                  -1  2   5022720  ultralytics.nn.modules.block.C3k2            [768, 768, 2, True]           \n",
      "  7                  -1  1   5309952  ultralytics.nn.modules.conv.Conv             [768, 768, 3, 2]              \n",
      "  8                  -1  2   5022720  ultralytics.nn.modules.block.C3k2            [768, 768, 2, True]           \n",
      "  9                  -1  1   1476864  ultralytics.nn.modules.block.SPPF            [768, 768, 5]                 \n",
      " 10                  -1  2   3264768  ultralytics.nn.modules.block.C2PSA           [768, 768, 2]                 \n",
      " 11                  -1  1         0  torch.nn.modules.upsampling.Upsample         [None, 2, 'nearest']          \n",
      " 12             [-1, 6]  1         0  ultralytics.nn.modules.conv.Concat           [1]                           \n",
      " 13                  -1  2   5612544  ultralytics.nn.modules.block.C3k2            [1536, 768, 2, True]          \n",
      " 14                  -1  1         0  torch.nn.modules.upsampling.Upsample         [None, 2, 'nearest']          \n",
      " 15             [-1, 4]  1         0  ultralytics.nn.modules.conv.Concat           [1]                           \n",
      " 16                  -1  2   1700352  ultralytics.nn.modules.block.C3k2            [1536, 384, 2, True]          \n",
      " 17                  -1  1   1327872  ultralytics.nn.modules.conv.Conv             [384, 384, 3, 2]              \n",
      " 18            [-1, 13]  1         0  ultralytics.nn.modules.conv.Concat           [1]                           \n",
      " 19                  -1  2   5317632  ultralytics.nn.modules.block.C3k2            [1152, 768, 2, True]          \n",
      " 20                  -1  1   5309952  ultralytics.nn.modules.conv.Conv             [768, 768, 3, 2]              \n",
      " 21            [-1, 10]  1         0  ultralytics.nn.modules.conv.Concat           [1]                           \n",
      " 22                  -1  2   5612544  ultralytics.nn.modules.block.C3k2            [1536, 768, 2, True]          \n",
      " 23        [16, 19, 22]  1   3150172  ultralytics.nn.modules.head.Detect           [4, [384, 768, 768]]          \n",
      "YOLO11x summary: 357 layers, 56,878,396 parameters, 56,878,380 gradients, 195.5 GFLOPs\n",
      "\n",
      "Transferred 1009/1015 items from pretrained weights\n",
      "Freezing layer 'model.0.conv.weight'\n",
      "Freezing layer 'model.0.bn.weight'\n",
      "Freezing layer 'model.0.bn.bias'\n",
      "Freezing layer 'model.1.conv.weight'\n",
      "Freezing layer 'model.1.bn.weight'\n",
      "Freezing layer 'model.1.bn.bias'\n",
      "Freezing layer 'model.2.cv1.conv.weight'\n",
      "Freezing layer 'model.2.cv1.bn.weight'\n",
      "Freezing layer 'model.2.cv1.bn.bias'\n",
      "Freezing layer 'model.2.cv2.conv.weight'\n",
      "Freezing layer 'model.2.cv2.bn.weight'\n",
      "Freezing layer 'model.2.cv2.bn.bias'\n",
      "Freezing layer 'model.2.m.0.cv1.conv.weight'\n",
      "Freezing layer 'model.2.m.0.cv1.bn.weight'\n",
      "Freezing layer 'model.2.m.0.cv1.bn.bias'\n",
      "Freezing layer 'model.2.m.0.cv2.conv.weight'\n",
      "Freezing layer 'model.2.m.0.cv2.bn.weight'\n",
      "Freezing layer 'model.2.m.0.cv2.bn.bias'\n",
      "Freezing layer 'model.2.m.0.cv3.conv.weight'\n",
      "Freezing layer 'model.2.m.0.cv3.bn.weight'\n",
      "Freezing layer 'model.2.m.0.cv3.bn.bias'\n",
      "Freezing layer 'model.2.m.0.m.0.cv1.conv.weight'\n",
      "Freezing layer 'model.2.m.0.m.0.cv1.bn.weight'\n",
      "Freezing layer 'model.2.m.0.m.0.cv1.bn.bias'\n",
      "Freezing layer 'model.2.m.0.m.0.cv2.conv.weight'\n",
      "Freezing layer 'model.2.m.0.m.0.cv2.bn.weight'\n",
      "Freezing layer 'model.2.m.0.m.0.cv2.bn.bias'\n",
      "Freezing layer 'model.2.m.0.m.1.cv1.conv.weight'\n",
      "Freezing layer 'model.2.m.0.m.1.cv1.bn.weight'\n",
      "Freezing layer 'model.2.m.0.m.1.cv1.bn.bias'\n",
      "Freezing layer 'model.2.m.0.m.1.cv2.conv.weight'\n",
      "Freezing layer 'model.2.m.0.m.1.cv2.bn.weight'\n",
      "Freezing layer 'model.2.m.0.m.1.cv2.bn.bias'\n",
      "Freezing layer 'model.2.m.1.cv1.conv.weight'\n",
      "Freezing layer 'model.2.m.1.cv1.bn.weight'\n",
      "Freezing layer 'model.2.m.1.cv1.bn.bias'\n",
      "Freezing layer 'model.2.m.1.cv2.conv.weight'\n",
      "Freezing layer 'model.2.m.1.cv2.bn.weight'\n",
      "Freezing layer 'model.2.m.1.cv2.bn.bias'\n",
      "Freezing layer 'model.2.m.1.cv3.conv.weight'\n",
      "Freezing layer 'model.2.m.1.cv3.bn.weight'\n",
      "Freezing layer 'model.2.m.1.cv3.bn.bias'\n",
      "Freezing layer 'model.2.m.1.m.0.cv1.conv.weight'\n",
      "Freezing layer 'model.2.m.1.m.0.cv1.bn.weight'\n",
      "Freezing layer 'model.2.m.1.m.0.cv1.bn.bias'\n",
      "Freezing layer 'model.2.m.1.m.0.cv2.conv.weight'\n",
      "Freezing layer 'model.2.m.1.m.0.cv2.bn.weight'\n",
      "Freezing layer 'model.2.m.1.m.0.cv2.bn.bias'\n",
      "Freezing layer 'model.2.m.1.m.1.cv1.conv.weight'\n",
      "Freezing layer 'model.2.m.1.m.1.cv1.bn.weight'\n",
      "Freezing layer 'model.2.m.1.m.1.cv1.bn.bias'\n",
      "Freezing layer 'model.2.m.1.m.1.cv2.conv.weight'\n",
      "Freezing layer 'model.2.m.1.m.1.cv2.bn.weight'\n",
      "Freezing layer 'model.2.m.1.m.1.cv2.bn.bias'\n",
      "Freezing layer 'model.3.conv.weight'\n",
      "Freezing layer 'model.3.bn.weight'\n",
      "Freezing layer 'model.3.bn.bias'\n",
      "Freezing layer 'model.4.cv1.conv.weight'\n",
      "Freezing layer 'model.4.cv1.bn.weight'\n",
      "Freezing layer 'model.4.cv1.bn.bias'\n",
      "Freezing layer 'model.4.cv2.conv.weight'\n",
      "Freezing layer 'model.4.cv2.bn.weight'\n",
      "Freezing layer 'model.4.cv2.bn.bias'\n",
      "Freezing layer 'model.4.m.0.cv1.conv.weight'\n",
      "Freezing layer 'model.4.m.0.cv1.bn.weight'\n",
      "Freezing layer 'model.4.m.0.cv1.bn.bias'\n",
      "Freezing layer 'model.4.m.0.cv2.conv.weight'\n",
      "Freezing layer 'model.4.m.0.cv2.bn.weight'\n",
      "Freezing layer 'model.4.m.0.cv2.bn.bias'\n",
      "Freezing layer 'model.4.m.0.cv3.conv.weight'\n",
      "Freezing layer 'model.4.m.0.cv3.bn.weight'\n",
      "Freezing layer 'model.4.m.0.cv3.bn.bias'\n",
      "Freezing layer 'model.4.m.0.m.0.cv1.conv.weight'\n",
      "Freezing layer 'model.4.m.0.m.0.cv1.bn.weight'\n",
      "Freezing layer 'model.4.m.0.m.0.cv1.bn.bias'\n",
      "Freezing layer 'model.4.m.0.m.0.cv2.conv.weight'\n",
      "Freezing layer 'model.4.m.0.m.0.cv2.bn.weight'\n",
      "Freezing layer 'model.4.m.0.m.0.cv2.bn.bias'\n",
      "Freezing layer 'model.4.m.0.m.1.cv1.conv.weight'\n",
      "Freezing layer 'model.4.m.0.m.1.cv1.bn.weight'\n",
      "Freezing layer 'model.4.m.0.m.1.cv1.bn.bias'\n",
      "Freezing layer 'model.4.m.0.m.1.cv2.conv.weight'\n",
      "Freezing layer 'model.4.m.0.m.1.cv2.bn.weight'\n",
      "Freezing layer 'model.4.m.0.m.1.cv2.bn.bias'\n",
      "Freezing layer 'model.4.m.1.cv1.conv.weight'\n",
      "Freezing layer 'model.4.m.1.cv1.bn.weight'\n",
      "Freezing layer 'model.4.m.1.cv1.bn.bias'\n",
      "Freezing layer 'model.4.m.1.cv2.conv.weight'\n",
      "Freezing layer 'model.4.m.1.cv2.bn.weight'\n",
      "Freezing layer 'model.4.m.1.cv2.bn.bias'\n",
      "Freezing layer 'model.4.m.1.cv3.conv.weight'\n",
      "Freezing layer 'model.4.m.1.cv3.bn.weight'\n",
      "Freezing layer 'model.4.m.1.cv3.bn.bias'\n",
      "Freezing layer 'model.4.m.1.m.0.cv1.conv.weight'\n",
      "Freezing layer 'model.4.m.1.m.0.cv1.bn.weight'\n",
      "Freezing layer 'model.4.m.1.m.0.cv1.bn.bias'\n",
      "Freezing layer 'model.4.m.1.m.0.cv2.conv.weight'\n",
      "Freezing layer 'model.4.m.1.m.0.cv2.bn.weight'\n",
      "Freezing layer 'model.4.m.1.m.0.cv2.bn.bias'\n",
      "Freezing layer 'model.4.m.1.m.1.cv1.conv.weight'\n",
      "Freezing layer 'model.4.m.1.m.1.cv1.bn.weight'\n",
      "Freezing layer 'model.4.m.1.m.1.cv1.bn.bias'\n",
      "Freezing layer 'model.4.m.1.m.1.cv2.conv.weight'\n",
      "Freezing layer 'model.4.m.1.m.1.cv2.bn.weight'\n",
      "Freezing layer 'model.4.m.1.m.1.cv2.bn.bias'\n",
      "Freezing layer 'model.23.dfl.conv.weight'\n",
      "\u001b[34m\u001b[1mAMP: \u001b[0mrunning Automatic Mixed Precision (AMP) checks...\n",
      "\u001b[34m\u001b[1mAMP: \u001b[0mchecks passed ✅\n",
      "\u001b[34m\u001b[1mtrain: \u001b[0mFast image access ✅ (ping: 0.0±0.0 ms, read: 541.7±88.6 MB/s, size: 350.8 KB)\n"
     ]
    },
    {
     "name": "stderr",
     "output_type": "stream",
     "text": [
      "\u001b[34m\u001b[1mtrain: \u001b[0mScanning /kaggle/input/baseball-rubber-home-glove-2/baseball_rubber_home_glove/train/labels... 3905 images, 20 backgrounds, 0 corrupt: 100%|██████████| 3925/3925 [00:03<00:00, 1140.00it/s]\n"
     ]
    },
    {
     "name": "stdout",
     "output_type": "stream",
     "text": [
      "WARNING ⚠️ \u001b[34m\u001b[1mtrain: \u001b[0mCache directory /kaggle/input/baseball-rubber-home-glove-2/baseball_rubber_home_glove/train is not writeable, cache not saved.\n",
      "\u001b[34m\u001b[1malbumentations: \u001b[0mBlur(p=0.01, blur_limit=(3, 7)), MedianBlur(p=0.01, blur_limit=(3, 7)), ToGray(p=0.01, method='weighted_average', num_output_channels=3), CLAHE(p=0.01, clip_limit=(1.0, 4.0), tile_grid_size=(8, 8))\n",
      "\u001b[34m\u001b[1mval: \u001b[0mFast image access ✅ (ping: 0.0±0.0 ms, read: 201.1±106.7 MB/s, size: 337.6 KB)\n"
     ]
    },
    {
     "name": "stderr",
     "output_type": "stream",
     "text": [
      "\u001b[34m\u001b[1mval: \u001b[0mScanning /kaggle/input/baseball-rubber-home-glove-2/baseball_rubber_home_glove/valid/labels... 97 images, 1 backgrounds, 0 corrupt: 100%|██████████| 98/98 [00:00<00:00, 549.38it/s]"
     ]
    },
    {
     "name": "stdout",
     "output_type": "stream",
     "text": [
      "WARNING ⚠️ \u001b[34m\u001b[1mval: \u001b[0mCache directory /kaggle/input/baseball-rubber-home-glove-2/baseball_rubber_home_glove/valid is not writeable, cache not saved.\n"
     ]
    },
    {
     "name": "stderr",
     "output_type": "stream",
     "text": [
      "\n"
     ]
    },
    {
     "name": "stdout",
     "output_type": "stream",
     "text": [
      "Plotting labels to baseball_glove_detection_new_params_weighted/glove_optimized_v2/labels.jpg... \n",
      "\u001b[34m\u001b[1moptimizer:\u001b[0m 'optimizer=auto' found, ignoring 'lr0=0.01' and 'momentum=0.937' and determining best 'optimizer', 'lr0' and 'momentum' automatically... \n",
      "\u001b[34m\u001b[1moptimizer:\u001b[0m AdamW(lr=0.00125, momentum=0.9) with parameter groups 167 weight(decay=0.0), 174 weight(decay=0.0005), 173 bias(decay=0.0)\n",
      "Image sizes 800 train, 800 val\n",
      "Using 4 dataloader workers\n",
      "Logging results to \u001b[1mbaseball_glove_detection_new_params_weighted/glove_optimized_v2\u001b[0m\n",
      "Starting training for 20 epochs...\n",
      "\n",
      "      Epoch    GPU_mem   box_loss   cls_loss   dfl_loss  Instances       Size\n"
     ]
    },
    {
     "name": "stderr",
     "output_type": "stream",
     "text": [
      "       1/20      12.6G      1.872      9.439       1.12         88        800:  85%|████████▌ | 210/246 [05:57<01:00,  1.68s/it]Corrupt JPEG data: 963 extraneous bytes before marker 0xd9\n",
      "       1/20      12.6G      1.859      8.218      1.116         32        800: 100%|██████████| 246/246 [06:57<00:00,  1.70s/it]\n",
      "                 Class     Images  Instances      Box(P          R      mAP50  mAP50-95): 100%|██████████| 4/4 [00:02<00:00,  1.35it/s]"
     ]
    },
    {
     "name": "stdout",
     "output_type": "stream",
     "text": [
      "                   all         98        371      0.788       0.81      0.802       0.34\n"
     ]
    },
    {
     "name": "stderr",
     "output_type": "stream",
     "text": [
      "\n"
     ]
    },
    {
     "name": "stdout",
     "output_type": "stream",
     "text": [
      "\n",
      "      Epoch    GPU_mem   box_loss   cls_loss   dfl_loss  Instances       Size\n"
     ]
    },
    {
     "name": "stderr",
     "output_type": "stream",
     "text": [
      "       2/20      12.8G      1.778      1.093      1.096        106        800:   5%|▌         | 13/246 [00:21<06:34,  1.69s/it]Corrupt JPEG data: 963 extraneous bytes before marker 0xd9\n",
      "       2/20      12.9G      1.734      1.014      1.074         34        800: 100%|██████████| 246/246 [06:53<00:00,  1.68s/it]\n",
      "                 Class     Images  Instances      Box(P          R      mAP50  mAP50-95): 100%|██████████| 4/4 [00:02<00:00,  1.36it/s]"
     ]
    },
    {
     "name": "stdout",
     "output_type": "stream",
     "text": [
      "                   all         98        371      0.825      0.822      0.833      0.357\n"
     ]
    },
    {
     "name": "stderr",
     "output_type": "stream",
     "text": [
      "\n"
     ]
    },
    {
     "name": "stdout",
     "output_type": "stream",
     "text": [
      "\n",
      "      Epoch    GPU_mem   box_loss   cls_loss   dfl_loss  Instances       Size\n"
     ]
    },
    {
     "name": "stderr",
     "output_type": "stream",
     "text": [
      "       3/20      14.2G      1.719      1.014      1.068         78        800:  19%|█▉        | 47/246 [01:18<05:33,  1.67s/it]Corrupt JPEG data: 963 extraneous bytes before marker 0xd9\n",
      "       3/20      14.2G      1.711     0.9811      1.063         18        800: 100%|██████████| 246/246 [06:51<00:00,  1.67s/it]\n",
      "                 Class     Images  Instances      Box(P          R      mAP50  mAP50-95): 100%|██████████| 4/4 [00:02<00:00,  1.36it/s]"
     ]
    },
    {
     "name": "stdout",
     "output_type": "stream",
     "text": [
      "                   all         98        371      0.822      0.829      0.826      0.341\n"
     ]
    },
    {
     "name": "stderr",
     "output_type": "stream",
     "text": [
      "\n"
     ]
    },
    {
     "name": "stdout",
     "output_type": "stream",
     "text": [
      "\n",
      "      Epoch    GPU_mem   box_loss   cls_loss   dfl_loss  Instances       Size\n"
     ]
    },
    {
     "name": "stderr",
     "output_type": "stream",
     "text": [
      "       4/20      13.4G      1.714     0.9635      1.065        122        800:  48%|████▊     | 118/246 [03:17<03:34,  1.68s/it]Corrupt JPEG data: 963 extraneous bytes before marker 0xd9\n",
      "       4/20      13.4G      1.699     0.9503      1.062         35        800: 100%|██████████| 246/246 [06:51<00:00,  1.67s/it]\n",
      "                 Class     Images  Instances      Box(P          R      mAP50  mAP50-95): 100%|██████████| 4/4 [00:02<00:00,  1.36it/s]"
     ]
    },
    {
     "name": "stdout",
     "output_type": "stream",
     "text": [
      "                   all         98        371      0.779       0.82      0.815      0.345\n"
     ]
    },
    {
     "name": "stderr",
     "output_type": "stream",
     "text": [
      "\n"
     ]
    },
    {
     "name": "stdout",
     "output_type": "stream",
     "text": [
      "\n",
      "      Epoch    GPU_mem   box_loss   cls_loss   dfl_loss  Instances       Size\n"
     ]
    },
    {
     "name": "stderr",
     "output_type": "stream",
     "text": [
      "       5/20      13.8G      1.662     0.9259      1.059        103        800:  40%|████      | 99/246 [02:45<04:07,  1.68s/it]Corrupt JPEG data: 963 extraneous bytes before marker 0xd9\n",
      "       5/20      13.9G      1.669      0.926      1.061         42        800: 100%|██████████| 246/246 [06:51<00:00,  1.67s/it]\n",
      "                 Class     Images  Instances      Box(P          R      mAP50  mAP50-95): 100%|██████████| 4/4 [00:02<00:00,  1.36it/s]"
     ]
    },
    {
     "name": "stdout",
     "output_type": "stream",
     "text": [
      "                   all         98        371      0.843      0.815      0.842      0.364\n"
     ]
    },
    {
     "name": "stderr",
     "output_type": "stream",
     "text": [
      "\n"
     ]
    },
    {
     "name": "stdout",
     "output_type": "stream",
     "text": [
      "\n",
      "      Epoch    GPU_mem   box_loss   cls_loss   dfl_loss  Instances       Size\n"
     ]
    },
    {
     "name": "stderr",
     "output_type": "stream",
     "text": [
      "       6/20      12.9G      1.665     0.9241      1.055         85        800:  82%|████████▏ | 201/246 [05:36<01:15,  1.68s/it]Corrupt JPEG data: 963 extraneous bytes before marker 0xd9\n",
      "       6/20      12.9G      1.668     0.9252      1.052         38        800: 100%|██████████| 246/246 [06:51<00:00,  1.67s/it]\n",
      "                 Class     Images  Instances      Box(P          R      mAP50  mAP50-95): 100%|██████████| 4/4 [00:02<00:00,  1.36it/s]"
     ]
    },
    {
     "name": "stdout",
     "output_type": "stream",
     "text": [
      "                   all         98        371      0.791      0.844      0.821      0.358\n"
     ]
    },
    {
     "name": "stderr",
     "output_type": "stream",
     "text": [
      "\n"
     ]
    },
    {
     "name": "stdout",
     "output_type": "stream",
     "text": [
      "\n",
      "      Epoch    GPU_mem   box_loss   cls_loss   dfl_loss  Instances       Size\n"
     ]
    },
    {
     "name": "stderr",
     "output_type": "stream",
     "text": [
      "       7/20      13.9G      1.684     0.9376      1.044        121        800:  27%|██▋       | 67/246 [01:52<05:01,  1.69s/it]Corrupt JPEG data: 963 extraneous bytes before marker 0xd9\n",
      "       7/20      13.9G      1.667     0.9215      1.049         31        800: 100%|██████████| 246/246 [06:51<00:00,  1.67s/it]\n",
      "                 Class     Images  Instances      Box(P          R      mAP50  mAP50-95): 100%|██████████| 4/4 [00:02<00:00,  1.36it/s]"
     ]
    },
    {
     "name": "stdout",
     "output_type": "stream",
     "text": [
      "                   all         98        371      0.858      0.835      0.848      0.364\n"
     ]
    },
    {
     "name": "stderr",
     "output_type": "stream",
     "text": [
      "\n"
     ]
    },
    {
     "name": "stdout",
     "output_type": "stream",
     "text": [
      "\n",
      "      Epoch    GPU_mem   box_loss   cls_loss   dfl_loss  Instances       Size\n"
     ]
    },
    {
     "name": "stderr",
     "output_type": "stream",
     "text": [
      "       8/20      13.4G      1.645      0.902      1.042         77        800:  65%|██████▌   | 161/246 [04:29<02:23,  1.68s/it]Corrupt JPEG data: 963 extraneous bytes before marker 0xd9\n",
      "       8/20      13.4G      1.645     0.9036      1.044         32        800: 100%|██████████| 246/246 [06:51<00:00,  1.67s/it]\n",
      "                 Class     Images  Instances      Box(P          R      mAP50  mAP50-95): 100%|██████████| 4/4 [00:02<00:00,  1.35it/s]"
     ]
    },
    {
     "name": "stdout",
     "output_type": "stream",
     "text": [
      "                   all         98        371      0.814      0.858       0.88      0.387\n"
     ]
    },
    {
     "name": "stderr",
     "output_type": "stream",
     "text": [
      "\n"
     ]
    },
    {
     "name": "stdout",
     "output_type": "stream",
     "text": [
      "\n",
      "      Epoch    GPU_mem   box_loss   cls_loss   dfl_loss  Instances       Size\n"
     ]
    },
    {
     "name": "stderr",
     "output_type": "stream",
     "text": [
      "       9/20      13.5G       1.67     0.9256      1.061         87        800:   9%|▊         | 21/246 [00:35<06:15,  1.67s/it]Corrupt JPEG data: 963 extraneous bytes before marker 0xd9\n",
      "       9/20      13.5G      1.644     0.8987      1.044         28        800: 100%|██████████| 246/246 [06:51<00:00,  1.67s/it]\n",
      "                 Class     Images  Instances      Box(P          R      mAP50  mAP50-95): 100%|██████████| 4/4 [00:02<00:00,  1.36it/s]"
     ]
    },
    {
     "name": "stdout",
     "output_type": "stream",
     "text": [
      "                   all         98        371      0.828      0.853      0.874      0.389\n"
     ]
    },
    {
     "name": "stderr",
     "output_type": "stream",
     "text": [
      "\n"
     ]
    },
    {
     "name": "stdout",
     "output_type": "stream",
     "text": [
      "\n",
      "      Epoch    GPU_mem   box_loss   cls_loss   dfl_loss  Instances       Size\n"
     ]
    },
    {
     "name": "stderr",
     "output_type": "stream",
     "text": [
      "      10/20      13.4G      1.645     0.8996       1.05         84        800:  79%|███████▉  | 195/246 [05:26<01:25,  1.67s/it]Corrupt JPEG data: 963 extraneous bytes before marker 0xd9\n",
      "      10/20      13.4G      1.637     0.8964      1.049         15        800: 100%|██████████| 246/246 [06:51<00:00,  1.67s/it]\n",
      "                 Class     Images  Instances      Box(P          R      mAP50  mAP50-95): 100%|██████████| 4/4 [00:02<00:00,  1.35it/s]"
     ]
    },
    {
     "name": "stdout",
     "output_type": "stream",
     "text": [
      "                   all         98        371      0.831      0.859      0.866      0.389\n"
     ]
    },
    {
     "name": "stderr",
     "output_type": "stream",
     "text": [
      "\n"
     ]
    },
    {
     "name": "stdout",
     "output_type": "stream",
     "text": [
      "Closing dataloader mosaic\n",
      "\u001b[34m\u001b[1malbumentations: \u001b[0mBlur(p=0.01, blur_limit=(3, 7)), MedianBlur(p=0.01, blur_limit=(3, 7)), ToGray(p=0.01, method='weighted_average', num_output_channels=3), CLAHE(p=0.01, clip_limit=(1.0, 4.0), tile_grid_size=(8, 8))\n",
      "\n",
      "      Epoch    GPU_mem   box_loss   cls_loss   dfl_loss  Instances       Size\n"
     ]
    },
    {
     "name": "stderr",
     "output_type": "stream",
     "text": [
      "      11/20      13.8G      1.566      0.857      1.069         62        800:  40%|███▉      | 98/246 [02:45<04:06,  1.67s/it]Corrupt JPEG data: 963 extraneous bytes before marker 0xd9\n",
      "      11/20      13.8G      1.564     0.8561      1.066         20        800: 100%|██████████| 246/246 [06:51<00:00,  1.67s/it]\n",
      "                 Class     Images  Instances      Box(P          R      mAP50  mAP50-95): 100%|██████████| 4/4 [00:02<00:00,  1.36it/s]"
     ]
    },
    {
     "name": "stdout",
     "output_type": "stream",
     "text": [
      "                   all         98        371      0.834      0.846      0.885       0.39\n"
     ]
    },
    {
     "name": "stderr",
     "output_type": "stream",
     "text": [
      "\n"
     ]
    },
    {
     "name": "stdout",
     "output_type": "stream",
     "text": [
      "\n",
      "      Epoch    GPU_mem   box_loss   cls_loss   dfl_loss  Instances       Size\n"
     ]
    },
    {
     "name": "stderr",
     "output_type": "stream",
     "text": [
      "      12/20      13.7G      1.564     0.8561      1.063         60        800:  21%|██        | 52/246 [01:27<05:23,  1.67s/it]Corrupt JPEG data: 963 extraneous bytes before marker 0xd9\n",
      "      12/20      13.7G      1.555     0.8559      1.064         14        800: 100%|██████████| 246/246 [06:50<00:00,  1.67s/it]\n",
      "                 Class     Images  Instances      Box(P          R      mAP50  mAP50-95): 100%|██████████| 4/4 [00:02<00:00,  1.35it/s]"
     ]
    },
    {
     "name": "stdout",
     "output_type": "stream",
     "text": [
      "                   all         98        371      0.815      0.848      0.854      0.381\n"
     ]
    },
    {
     "name": "stderr",
     "output_type": "stream",
     "text": [
      "\n"
     ]
    },
    {
     "name": "stdout",
     "output_type": "stream",
     "text": [
      "\n",
      "      Epoch    GPU_mem   box_loss   cls_loss   dfl_loss  Instances       Size\n"
     ]
    },
    {
     "name": "stderr",
     "output_type": "stream",
     "text": [
      "      13/20      13.8G       1.54     0.8317      1.061         62        800:  77%|███████▋  | 190/246 [05:18<01:33,  1.67s/it]Corrupt JPEG data: 963 extraneous bytes before marker 0xd9\n",
      "      13/20      13.8G      1.538     0.8353       1.06         20        800: 100%|██████████| 246/246 [06:50<00:00,  1.67s/it]\n",
      "                 Class     Images  Instances      Box(P          R      mAP50  mAP50-95): 100%|██████████| 4/4 [00:02<00:00,  1.35it/s]"
     ]
    },
    {
     "name": "stdout",
     "output_type": "stream",
     "text": [
      "                   all         98        371      0.847      0.865      0.889      0.389\n"
     ]
    },
    {
     "name": "stderr",
     "output_type": "stream",
     "text": [
      "\n"
     ]
    },
    {
     "name": "stdout",
     "output_type": "stream",
     "text": [
      "\n",
      "      Epoch    GPU_mem   box_loss   cls_loss   dfl_loss  Instances       Size\n"
     ]
    },
    {
     "name": "stderr",
     "output_type": "stream",
     "text": [
      "      14/20      12.8G      1.536     0.8204      1.059         58        800:  37%|███▋      | 92/246 [02:33<04:16,  1.67s/it]Corrupt JPEG data: 963 extraneous bytes before marker 0xd9\n",
      "      14/20      12.8G      1.538     0.8282       1.06         20        800: 100%|██████████| 246/246 [06:50<00:00,  1.67s/it]\n",
      "                 Class     Images  Instances      Box(P          R      mAP50  mAP50-95): 100%|██████████| 4/4 [00:02<00:00,  1.35it/s]"
     ]
    },
    {
     "name": "stdout",
     "output_type": "stream",
     "text": [
      "                   all         98        371      0.837      0.877      0.888      0.395\n"
     ]
    },
    {
     "name": "stderr",
     "output_type": "stream",
     "text": [
      "\n"
     ]
    },
    {
     "name": "stdout",
     "output_type": "stream",
     "text": [
      "\n",
      "      Epoch    GPU_mem   box_loss   cls_loss   dfl_loss  Instances       Size\n"
     ]
    },
    {
     "name": "stderr",
     "output_type": "stream",
     "text": [
      "      15/20      13.1G      1.516     0.8217      1.055         60        800:  82%|████████▏ | 202/246 [05:38<01:13,  1.67s/it]Corrupt JPEG data: 963 extraneous bytes before marker 0xd9\n",
      "      15/20      13.1G       1.52     0.8271      1.053         18        800: 100%|██████████| 246/246 [06:50<00:00,  1.67s/it]\n",
      "                 Class     Images  Instances      Box(P          R      mAP50  mAP50-95): 100%|██████████| 4/4 [00:02<00:00,  1.36it/s]"
     ]
    },
    {
     "name": "stdout",
     "output_type": "stream",
     "text": [
      "                   all         98        371      0.832      0.881      0.887      0.392\n"
     ]
    },
    {
     "name": "stderr",
     "output_type": "stream",
     "text": [
      "\n"
     ]
    },
    {
     "name": "stdout",
     "output_type": "stream",
     "text": [
      "\n",
      "      Epoch    GPU_mem   box_loss   cls_loss   dfl_loss  Instances       Size\n"
     ]
    },
    {
     "name": "stderr",
     "output_type": "stream",
     "text": [
      "      16/20      12.8G      1.509     0.8212      1.055         62        800:  22%|██▏       | 55/246 [01:32<05:19,  1.67s/it]Corrupt JPEG data: 963 extraneous bytes before marker 0xd9\n",
      "      16/20      12.8G      1.512     0.8179      1.053         19        800: 100%|██████████| 246/246 [06:50<00:00,  1.67s/it]\n",
      "                 Class     Images  Instances      Box(P          R      mAP50  mAP50-95): 100%|██████████| 4/4 [00:02<00:00,  1.36it/s]"
     ]
    },
    {
     "name": "stdout",
     "output_type": "stream",
     "text": [
      "                   all         98        371      0.842      0.858      0.878      0.396\n"
     ]
    },
    {
     "name": "stderr",
     "output_type": "stream",
     "text": [
      "\n"
     ]
    },
    {
     "name": "stdout",
     "output_type": "stream",
     "text": [
      "\n",
      "      Epoch    GPU_mem   box_loss   cls_loss   dfl_loss  Instances       Size\n"
     ]
    },
    {
     "name": "stderr",
     "output_type": "stream",
     "text": [
      "      17/20      13.1G      1.513     0.8167       1.05         58        800:  54%|█████▎    | 132/246 [03:40<03:11,  1.68s/it]Corrupt JPEG data: 963 extraneous bytes before marker 0xd9\n",
      "      17/20      13.1G      1.515     0.8134      1.053         19        800: 100%|██████████| 246/246 [06:50<00:00,  1.67s/it]\n",
      "                 Class     Images  Instances      Box(P          R      mAP50  mAP50-95): 100%|██████████| 4/4 [00:02<00:00,  1.35it/s]"
     ]
    },
    {
     "name": "stdout",
     "output_type": "stream",
     "text": [
      "                   all         98        371      0.831      0.845      0.879      0.395\n"
     ]
    },
    {
     "name": "stderr",
     "output_type": "stream",
     "text": [
      "\n"
     ]
    },
    {
     "name": "stdout",
     "output_type": "stream",
     "text": [
      "\n",
      "      Epoch    GPU_mem   box_loss   cls_loss   dfl_loss  Instances       Size\n"
     ]
    },
    {
     "name": "stderr",
     "output_type": "stream",
     "text": [
      "      18/20      12.8G      1.515     0.8086      1.052         60        800:  75%|███████▍  | 184/246 [05:07<01:43,  1.67s/it]Corrupt JPEG data: 963 extraneous bytes before marker 0xd9\n",
      "      18/20      12.8G      1.513     0.8096      1.052         19        800: 100%|██████████| 246/246 [06:50<00:00,  1.67s/it]\n",
      "                 Class     Images  Instances      Box(P          R      mAP50  mAP50-95): 100%|██████████| 4/4 [00:02<00:00,  1.35it/s]"
     ]
    },
    {
     "name": "stdout",
     "output_type": "stream",
     "text": [
      "                   all         98        371      0.858      0.854      0.894      0.403\n"
     ]
    },
    {
     "name": "stderr",
     "output_type": "stream",
     "text": [
      "\n"
     ]
    },
    {
     "name": "stdout",
     "output_type": "stream",
     "text": [
      "\n",
      "      Epoch    GPU_mem   box_loss   cls_loss   dfl_loss  Instances       Size\n"
     ]
    },
    {
     "name": "stderr",
     "output_type": "stream",
     "text": [
      "      19/20        14G      1.516     0.8053      1.049         62        800:  74%|███████▍  | 183/246 [05:06<01:45,  1.68s/it]Corrupt JPEG data: 963 extraneous bytes before marker 0xd9\n",
      "      19/20        14G      1.509     0.8021      1.046         20        800: 100%|██████████| 246/246 [06:50<00:00,  1.67s/it]\n",
      "                 Class     Images  Instances      Box(P          R      mAP50  mAP50-95): 100%|██████████| 4/4 [00:02<00:00,  1.36it/s]"
     ]
    },
    {
     "name": "stdout",
     "output_type": "stream",
     "text": [
      "                   all         98        371      0.833      0.849      0.884      0.402\n"
     ]
    },
    {
     "name": "stderr",
     "output_type": "stream",
     "text": [
      "\n"
     ]
    },
    {
     "name": "stdout",
     "output_type": "stream",
     "text": [
      "\n",
      "      Epoch    GPU_mem   box_loss   cls_loss   dfl_loss  Instances       Size\n"
     ]
    },
    {
     "name": "stderr",
     "output_type": "stream",
     "text": [
      "      20/20      12.8G      1.513     0.8043      1.065         61        800:  41%|████▏     | 102/246 [02:50<04:01,  1.68s/it]Corrupt JPEG data: 963 extraneous bytes before marker 0xd9\n",
      "      20/20      12.8G      1.505     0.8034      1.055         20        800: 100%|██████████| 246/246 [06:50<00:00,  1.67s/it]\n",
      "                 Class     Images  Instances      Box(P          R      mAP50  mAP50-95): 100%|██████████| 4/4 [00:02<00:00,  1.35it/s]"
     ]
    },
    {
     "name": "stdout",
     "output_type": "stream",
     "text": [
      "                   all         98        371      0.842       0.86      0.889      0.402\n"
     ]
    },
    {
     "name": "stderr",
     "output_type": "stream",
     "text": [
      "\n"
     ]
    },
    {
     "name": "stdout",
     "output_type": "stream",
     "text": [
      "\n",
      "20 epochs completed in 2.316 hours.\n",
      "Optimizer stripped from baseball_glove_detection_new_params_weighted/glove_optimized_v2/weights/last.pt, 114.4MB\n",
      "Optimizer stripped from baseball_glove_detection_new_params_weighted/glove_optimized_v2/weights/best.pt, 114.4MB\n",
      "\n",
      "Validating baseball_glove_detection_new_params_weighted/glove_optimized_v2/weights/best.pt...\n",
      "Ultralytics 8.3.165 🚀 Python-3.11.13 torch-2.6.0+cu124 CUDA:0 (Tesla P100-PCIE-16GB, 16269MiB)\n",
      "YOLO11x summary (fused): 190 layers, 56,831,644 parameters, 0 gradients, 194.4 GFLOPs\n"
     ]
    },
    {
     "name": "stderr",
     "output_type": "stream",
     "text": [
      "                 Class     Images  Instances      Box(P          R      mAP50  mAP50-95): 100%|██████████| 4/4 [00:03<00:00,  1.14it/s]\n",
      "/usr/local/lib/python3.11/dist-packages/matplotlib/colors.py:721: RuntimeWarning: invalid value encountered in less\n",
      "  xa[xa < 0] = -1\n",
      "/usr/local/lib/python3.11/dist-packages/matplotlib/colors.py:721: RuntimeWarning: invalid value encountered in less\n",
      "  xa[xa < 0] = -1\n"
     ]
    },
    {
     "name": "stdout",
     "output_type": "stream",
     "text": [
      "                   all         98        371      0.858      0.854      0.894      0.403\n",
      "                 glove         95         95      0.919      0.926      0.933      0.487\n",
      "             homeplate         91         91      0.845      0.956      0.926       0.42\n",
      "              baseball         97         97      0.894      0.876      0.905      0.405\n",
      "                rubber         88         88      0.776      0.659      0.811      0.301\n",
      "Speed: 0.2ms preprocess, 27.9ms inference, 0.0ms loss, 2.4ms postprocess per image\n",
      "Results saved to \u001b[1mbaseball_glove_detection_new_params_weighted/glove_optimized_v2\u001b[0m\n"
     ]
    }
   ],
   "source": [
    "model = YOLO(\"/kaggle/input/yolo_glove_tracking/pytorch/default/1/glove_tracking_v4_YOLOv11.pt\").to('cuda')\n",
    "print('Pretrained model loaded')\n",
    "\n",
    "results = model.train(\n",
    "        data='/kaggle/working/baseball_data.yaml',\n",
    "        name='glove_optimized_v2',\n",
    "        optimizer='auto',\n",
    "        project='baseball_glove_detection_new_params_weighted',\n",
    "        **config\n",
    "    )"
   ]
  },
  {
   "cell_type": "code",
   "execution_count": 18,
   "metadata": {
    "execution": {
     "iopub.execute_input": "2025-07-13T05:42:01.820916Z",
     "iopub.status.busy": "2025-07-13T05:42:01.820647Z",
     "iopub.status.idle": "2025-07-13T05:42:09.895706Z",
     "shell.execute_reply": "2025-07-13T05:42:09.894805Z",
     "shell.execute_reply.started": "2025-07-13T05:42:01.820886Z"
    },
    "trusted": true
   },
   "outputs": [
    {
     "name": "stdout",
     "output_type": "stream",
     "text": [
      "Ultralytics 8.3.165 🚀 Python-3.11.13 torch-2.6.0+cu124 CUDA:0 (Tesla P100-PCIE-16GB, 16269MiB)\n",
      "YOLO11x summary (fused): 190 layers, 56,831,644 parameters, 0 gradients, 194.4 GFLOPs\n",
      "\u001b[34m\u001b[1mval: \u001b[0mFast image access ✅ (ping: 0.2±0.5 ms, read: 430.1±179.4 MB/s, size: 354.8 KB)\n"
     ]
    },
    {
     "name": "stderr",
     "output_type": "stream",
     "text": [
      "\u001b[34m\u001b[1mval: \u001b[0mScanning /kaggle/input/baseball-rubber-home-glove-2/baseball_rubber_home_glove/test/labels... 87 images, 0 backgrounds, 0 corrupt: 100%|██████████| 87/87 [00:00<00:00, 872.47it/s]"
     ]
    },
    {
     "name": "stdout",
     "output_type": "stream",
     "text": [
      "WARNING ⚠️ \u001b[34m\u001b[1mval: \u001b[0mCache directory /kaggle/input/baseball-rubber-home-glove-2/baseball_rubber_home_glove/test is not writeable, cache not saved.\n"
     ]
    },
    {
     "name": "stderr",
     "output_type": "stream",
     "text": [
      "\n",
      "                 Class     Images  Instances      Box(P          R      mAP50  mAP50-95): 100%|██████████| 6/6 [00:03<00:00,  1.65it/s]\n",
      "/usr/local/lib/python3.11/dist-packages/matplotlib/colors.py:721: RuntimeWarning: invalid value encountered in less\n",
      "  xa[xa < 0] = -1\n",
      "/usr/local/lib/python3.11/dist-packages/matplotlib/colors.py:721: RuntimeWarning: invalid value encountered in less\n",
      "  xa[xa < 0] = -1\n"
     ]
    },
    {
     "name": "stdout",
     "output_type": "stream",
     "text": [
      "                   all         87        339      0.861      0.861      0.893        0.4\n",
      "                 glove         87         87      0.955      0.943      0.983      0.519\n",
      "             homeplate         87         87      0.736      0.899       0.84      0.373\n",
      "              baseball         87         87      0.975      0.887      0.947      0.401\n",
      "                rubber         78         78      0.777      0.715      0.802      0.306\n",
      "Speed: 3.3ms preprocess, 28.1ms inference, 0.0ms loss, 1.0ms postprocess per image\n",
      "Results saved to \u001b[1mruns/detect/val7\u001b[0m\n",
      "Fine tuned Model Performance:\n",
      "mAP@0.5:0.95: 0.3999816756693894\n",
      "mAP@0.5: 0.8932046157865192\n"
     ]
    }
   ],
   "source": [
    "fine_tuned_model = YOLO(\"/kaggle/working/baseball_glove_detection_new_params/glove_optimized_v25/weights/best.pt\")\n",
    "fine_tuned_metrics = fine_tuned_model.val(data='/kaggle/working/baseball_data.yaml', split='test')\n",
    "print(\"Fine tuned Model Performance:\")\n",
    "print(f\"mAP@0.5:0.95: {fine_tuned_metrics.box.map}\")\n",
    "print(f\"mAP@0.5: {fine_tuned_metrics.box.map50}\")"
   ]
  },
  {
   "cell_type": "code",
   "execution_count": 11,
   "metadata": {
    "execution": {
     "iopub.execute_input": "2025-07-13T03:18:19.968179Z",
     "iopub.status.busy": "2025-07-13T03:18:19.967318Z",
     "iopub.status.idle": "2025-07-13T03:18:31.065623Z",
     "shell.execute_reply": "2025-07-13T03:18:31.064920Z",
     "shell.execute_reply.started": "2025-07-13T03:18:19.968148Z"
    },
    "trusted": true
   },
   "outputs": [
    {
     "name": "stdout",
     "output_type": "stream",
     "text": [
      "  adding: kaggle/working/baseball_glove_detection_new_params/glove_optimized_v25/ (stored 0%)\n",
      "  adding: kaggle/working/baseball_glove_detection_new_params/glove_optimized_v25/val_batch0_pred.jpg (deflated 6%)\n",
      "  adding: kaggle/working/baseball_glove_detection_new_params/glove_optimized_v25/confusion_matrix_normalized.png (deflated 24%)\n",
      "  adding: kaggle/working/baseball_glove_detection_new_params/glove_optimized_v25/BoxPR_curve.png (deflated 13%)\n",
      "  adding: kaggle/working/baseball_glove_detection_new_params/glove_optimized_v25/weights/ (stored 0%)\n",
      "  adding: kaggle/working/baseball_glove_detection_new_params/glove_optimized_v25/weights/best.pt (deflated 8%)\n",
      "  adding: kaggle/working/baseball_glove_detection_new_params/glove_optimized_v25/weights/last.pt (deflated 8%)\n",
      "  adding: kaggle/working/baseball_glove_detection_new_params/glove_optimized_v25/val_batch1_labels.jpg (deflated 6%)\n",
      "  adding: kaggle/working/baseball_glove_detection_new_params/glove_optimized_v25/confusion_matrix.png (deflated 27%)\n",
      "  adding: kaggle/working/baseball_glove_detection_new_params/glove_optimized_v25/labels_correlogram.jpg (deflated 34%)\n",
      "  adding: kaggle/working/baseball_glove_detection_new_params/glove_optimized_v25/val_batch1_pred.jpg (deflated 6%)\n",
      "  adding: kaggle/working/baseball_glove_detection_new_params/glove_optimized_v25/train_batch2.jpg (deflated 5%)\n",
      "  adding: kaggle/working/baseball_glove_detection_new_params/glove_optimized_v25/val_batch2_pred.jpg (deflated 6%)\n",
      "  adding: kaggle/working/baseball_glove_detection_new_params/glove_optimized_v25/train_batch2462.jpg (deflated 14%)\n",
      "  adding: kaggle/working/baseball_glove_detection_new_params/glove_optimized_v25/labels.jpg (deflated 40%)\n",
      "  adding: kaggle/working/baseball_glove_detection_new_params/glove_optimized_v25/train_batch0.jpg (deflated 6%)\n",
      "  adding: kaggle/working/baseball_glove_detection_new_params/glove_optimized_v25/results.png (deflated 6%)\n",
      "  adding: kaggle/working/baseball_glove_detection_new_params/glove_optimized_v25/BoxF1_curve.png (deflated 8%)\n",
      "  adding: kaggle/working/baseball_glove_detection_new_params/glove_optimized_v25/BoxP_curve.png (deflated 10%)\n",
      "  adding: kaggle/working/baseball_glove_detection_new_params/glove_optimized_v25/train_batch2460.jpg (deflated 10%)\n",
      "  adding: kaggle/working/baseball_glove_detection_new_params/glove_optimized_v25/train_batch2461.jpg (deflated 8%)\n",
      "  adding: kaggle/working/baseball_glove_detection_new_params/glove_optimized_v25/BoxR_curve.png (deflated 10%)\n",
      "  adding: kaggle/working/baseball_glove_detection_new_params/glove_optimized_v25/args.yaml (deflated 52%)\n",
      "  adding: kaggle/working/baseball_glove_detection_new_params/glove_optimized_v25/val_batch0_labels.jpg (deflated 6%)\n",
      "  adding: kaggle/working/baseball_glove_detection_new_params/glove_optimized_v25/train_batch1.jpg (deflated 11%)\n",
      "  adding: kaggle/working/baseball_glove_detection_new_params/glove_optimized_v25/results.csv (deflated 61%)\n",
      "  adding: kaggle/working/baseball_glove_detection_new_params/glove_optimized_v25/val_batch2_labels.jpg (deflated 6%)\n"
     ]
    }
   ],
   "source": [
    "!zip -r /kaggle/working/baseball_glove_detection_new_params/glove_optimized_v25.zip /kaggle/working/baseball_glove_detection_new_params/glove_optimized_v25"
   ]
  }
 ],
 "metadata": {
  "kaggle": {
   "accelerator": "gpu",
   "dataSources": [
    {
     "datasetId": 7848581,
     "sourceId": 12442092,
     "sourceType": "datasetVersion"
    },
    {
     "isSourceIdPinned": true,
     "modelId": 398956,
     "modelInstanceId": 378882,
     "sourceId": 469637,
     "sourceType": "modelInstanceVersion"
    }
   ],
   "dockerImageVersionId": 31090,
   "isGpuEnabled": true,
   "isInternetEnabled": true,
   "language": "python",
   "sourceType": "notebook"
  },
  "kernelspec": {
   "display_name": "Python 3",
   "language": "python",
   "name": "python3"
  },
  "language_info": {
   "codemirror_mode": {
    "name": "ipython",
    "version": 3
   },
   "file_extension": ".py",
   "mimetype": "text/x-python",
   "name": "python",
   "nbconvert_exporter": "python",
   "pygments_lexer": "ipython3",
   "version": "3.11.13"
  }
 },
 "nbformat": 4,
 "nbformat_minor": 4
}
